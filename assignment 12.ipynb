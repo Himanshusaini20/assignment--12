{
 "cells": [
  {
   "cell_type": "markdown",
   "id": "0d048cd8-e552-40fd-a5d6-ee0a2d350d1f",
   "metadata": {},
   "source": [
    "### Q1 What is multiprocessing in python? Why is it useful?"
   ]
  },
  {
   "cell_type": "code",
   "execution_count": 1,
   "id": "c9bbd3b2-46d3-4a1d-be76-609c493d2ec8",
   "metadata": {},
   "outputs": [
    {
     "data": {
      "text/plain": [
       "'Multiprocessing in python is a built in package that allows the system to run\\nmultiple process simultaneously. It will enable the breaking the applications into\\nsmaller threads that can run independently.'"
      ]
     },
     "execution_count": 1,
     "metadata": {},
     "output_type": "execute_result"
    }
   ],
   "source": [
    "\"\"\"Multiprocessing in python is a built in package that allows the system to run\n",
    "multiple process simultaneously. It will enable the breaking the applications into\n",
    "smaller threads that can run independently.\"\"\""
   ]
  },
  {
   "cell_type": "markdown",
   "id": "7fca258e-ec08-4bfc-a97a-c194cdd521f3",
   "metadata": {},
   "source": [
    "### Q2 What are the difference between multiprocessing and multithreading ?"
   ]
  },
  {
   "cell_type": "code",
   "execution_count": 2,
   "id": "5b698600-f835-42c9-8f38-58f1de8f4325",
   "metadata": {},
   "outputs": [
    {
     "data": {
      "text/plain": [
       "'The fundamental difference between multiprocessing and multithreading is that \\nmultiprocessing makes the use of two or more CPUs to increase the computing power\\nof the system, while multithreading creates multiple threads of a process to be execute\\nin a parallel fashion to increase the throughput of the system. '"
      ]
     },
     "execution_count": 2,
     "metadata": {},
     "output_type": "execute_result"
    }
   ],
   "source": [
    "\"\"\"The fundamental difference between multiprocessing and multithreading is that \n",
    "multiprocessing makes the use of two or more CPUs to increase the computing power\n",
    "of the system, while multithreading creates multiple threads of a process to be execute\n",
    "in a parallel fashion to increase the throughput of the system. \"\"\""
   ]
  },
  {
   "cell_type": "markdown",
   "id": "0115cfa8-7dee-4a94-b8c0-00ab09ca6764",
   "metadata": {},
   "source": [
    "### Q3 Write a python code to create a process using the multiprocessing module."
   ]
  },
  {
   "cell_type": "code",
   "execution_count": 3,
   "id": "c07d0682-eb4f-46f5-a08c-629ff33192d5",
   "metadata": {},
   "outputs": [
    {
     "name": "stdout",
     "output_type": "stream",
     "text": [
      "this is my main prog\n",
      "this is my multiprocessing prog\n"
     ]
    }
   ],
   "source": [
    "import multiprocessing\n",
    "def test ():\n",
    "    print(\"this is my multiprocessing prog\")\n",
    "if __name__=='__main__':\n",
    "    n=multiprocessing.Process(target=test)\n",
    "    print (\"this is my main prog\")\n",
    "    n.start()\n",
    "    n.join()"
   ]
  },
  {
   "cell_type": "markdown",
   "id": "6e7c0bda-9785-4655-836e-b2a46804694d",
   "metadata": {},
   "source": [
    "### Q4 What is multiprocessing pool in python? Why is it used?"
   ]
  },
  {
   "cell_type": "code",
   "execution_count": 5,
   "id": "8254f594-1e99-4ba7-8566-14f04c1efbf2",
   "metadata": {},
   "outputs": [
    {
     "data": {
      "text/plain": [
       "'Phthon multiprocessing pool can be used for parallel execution of a function across\\nmultiple input values, distributing the input data across processer(data parallelism)'"
      ]
     },
     "execution_count": 5,
     "metadata": {},
     "output_type": "execute_result"
    }
   ],
   "source": [
    "\"\"\"Phthon multiprocessing pool can be used for parallel execution of a function across\n",
    "multiple input values, distributing the input data across processer(data parallelism)\"\"\""
   ]
  },
  {
   "cell_type": "code",
   "execution_count": 6,
   "id": "9cf035d7-417d-4fd9-bb18-b141c8a281c1",
   "metadata": {},
   "outputs": [
    {
     "name": "stdout",
     "output_type": "stream",
     "text": [
      "[1, 4, 9, 16, 25]\n"
     ]
    }
   ],
   "source": [
    "def square(m):\n",
    "    return m**2\n",
    "if __name__=='__main__':\n",
    "    with multiprocessing.Pool(processes=4)as pool:\n",
    "        out=pool.map(square,[1,2,3,4,5])\n",
    "        print(out)\n",
    "        "
   ]
  },
  {
   "cell_type": "markdown",
   "id": "af5f2562-009e-429d-a664-afc2b26df952",
   "metadata": {},
   "source": [
    "### Q5 How can we create a pool of worker process in python using the multiprocessing module?"
   ]
  },
  {
   "cell_type": "code",
   "execution_count": 16,
   "id": "b58e5f5c-b3b8-4f8d-921a-a4d867cb7752",
   "metadata": {},
   "outputs": [
    {
     "name": "stdout",
     "output_type": "stream",
     "text": [
      "[0, 1, 4, 9, 16, 25, 36, 49, 64, 81]\n",
      "0\n",
      "1\n",
      "4\n",
      "16\n",
      "25\n",
      "36\n",
      "9\n",
      "64\n",
      "81\n",
      "49\n",
      "400\n",
      "1819\n",
      "[1817, 1816, 1818, 1819]\n",
      "We lacked patience and got a multiprocessing.TimeoutError\n",
      "For the moment, the pool remains available for more work\n",
      "Now the pool is closed and no longer available\n"
     ]
    }
   ],
   "source": [
    "import multiprocessing \n",
    "import time\n",
    "import os\n",
    "\n",
    "def f(x):\n",
    "    return x*x\n",
    "\n",
    "if __name__==\"__main__\":\n",
    "    with multiprocessing.Pool(processes=4) as pool:\n",
    "        print(pool.map(f,range(10)))\n",
    "        for i in pool.imap_unordered(f,range(10)):\n",
    "            print(i)\n",
    "        res = pool.apply_async(f,(20,))\n",
    "        print(res.get(timeout=1))\n",
    "        \n",
    "        res =pool.apply_async(os.getpid,())\n",
    "        print(res.get(timeout=1))\n",
    "  \n",
    "        multiple_results =[pool.apply_async(os.getpid,()) for i in range(4)]\n",
    "        print([res.get(timeout=1) for res in multiple_results])\n",
    "             \n",
    "        res=pool.apply_async(time.sleep,(10,))\n",
    "        try:\n",
    "             print(res.get(timeout=1))\n",
    "        except TimeoutError:\n",
    "             print(\"We lacked patience and got a multiprocessing.TimeoutError\")\n",
    "        print(\"For the moment, the pool remains available for more work\")\n",
    "    print(\"Now the pool is closed and no longer available\")"
   ]
  },
  {
   "cell_type": "markdown",
   "id": "a2e5eb8a-aa59-4612-b8bd-7c18a461b30a",
   "metadata": {},
   "source": [
    "### Q6 Write a python program to create 4 processes,each process should print a different number using the multiprocessing module in python."
   ]
  },
  {
   "cell_type": "code",
   "execution_count": null,
   "id": "93ce082b-5d66-4ba8-a4ab-bbb87c3fc612",
   "metadata": {},
   "outputs": [],
   "source": [
    "import multiprocessing\n",
    "def"
   ]
  }
 ],
 "metadata": {
  "kernelspec": {
   "display_name": "Python 3 (ipykernel)",
   "language": "python",
   "name": "python3"
  },
  "language_info": {
   "codemirror_mode": {
    "name": "ipython",
    "version": 3
   },
   "file_extension": ".py",
   "mimetype": "text/x-python",
   "name": "python",
   "nbconvert_exporter": "python",
   "pygments_lexer": "ipython3",
   "version": "3.10.8"
  }
 },
 "nbformat": 4,
 "nbformat_minor": 5
}
